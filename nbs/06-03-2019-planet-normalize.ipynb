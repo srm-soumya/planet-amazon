{
 "cells": [
  {
   "cell_type": "code",
   "execution_count": 5,
   "metadata": {},
   "outputs": [],
   "source": [
    "import sys\n",
    "from pathlib import Path\n",
    "\n",
    "cwd = Path.cwd()\n",
    "lib = cwd.parent\n",
    "sys.path.append(str(lib))"
   ]
  },
  {
   "cell_type": "code",
   "execution_count": 9,
   "metadata": {},
   "outputs": [],
   "source": [
    "from dataset import *"
   ]
  },
  {
   "cell_type": "code",
   "execution_count": 10,
   "metadata": {},
   "outputs": [],
   "source": [
    "DATA_PATH = Path(lib/'data')"
   ]
  },
  {
   "cell_type": "code",
   "execution_count": 63,
   "metadata": {},
   "outputs": [],
   "source": [
    "def get_data():\n",
    "    CSV_PATH = DATA_PATH/'train_v2.csv'\n",
    "    IMG_FOLDER = DATA_PATH/'train-jpg'\n",
    "    EXT = 'jpg'\n",
    "    BS = 10\n",
    "\n",
    "    transform = transforms.Compose([\n",
    "        transforms.Resize(64),\n",
    "        transforms.ToTensor()\n",
    "    ])\n",
    "\n",
    "    train_ds = PlanetDataset(CSV_PATH/'train.csv', IMG_FOLDER, EXT, transform)\n",
    "    val_ds = PlanetDataset(CSV_PATH/'val.csv', IMG_FOLDER, EXT, transform, val=True)\n",
    "    train_dl = DataLoader(train_ds, batch_size=BS, shuffle=True, drop_last=True)\n",
    "    val_dl = DataLoader(val_ds, batch_size=BS * 2, shuffle=False, drop_last=True)\n",
    "    \n",
    "    return (train_dl, val_dl)"
   ]
  },
  {
   "cell_type": "code",
   "execution_count": 64,
   "metadata": {},
   "outputs": [],
   "source": [
    "train_dl, val_dl = get_data()"
   ]
  },
  {
   "cell_type": "code",
   "execution_count": 70,
   "metadata": {},
   "outputs": [
    {
     "name": "stdout",
     "output_type": "stream",
     "text": [
      "tensor([3.0522, 3.3146, 2.8376]) tensor([0.6383, 0.4943, 0.4148])\n",
      "tensor([3.4569, 3.6686, 3.1702]) tensor([0.5750, 0.4512, 0.3799])\n",
      "tensor([2.8255, 3.1207, 2.7113]) tensor([0.4726, 0.3646, 0.2989])\n",
      "tensor([3.2727, 3.5299, 3.1198]) tensor([0.4724, 0.3894, 0.3257])\n",
      "tensor([3.2972, 3.3317, 2.7403]) tensor([0.3848, 0.3383, 0.2804])\n",
      "tensor([2.9686, 3.3306, 2.9704]) tensor([0.3336, 0.2853, 0.2296])\n",
      "tensor([3.3448, 3.6691, 3.2785]) tensor([0.5588, 0.4527, 0.4054])\n",
      "tensor([4.1772, 4.4129, 3.9873]) tensor([0.7788, 0.6283, 0.5484])\n",
      "tensor([3.9388, 4.1669, 3.8010]) tensor([0.5638, 0.4289, 0.4347])\n",
      "tensor([2.9417, 3.1874, 2.7953]) tensor([0.4579, 0.3495, 0.2649])\n",
      "tensor([3.3326, 3.6108, 3.2448]) tensor([0.4183, 0.3053, 0.2342])\n",
      "tensor([2.9089, 3.2688, 2.8236]) tensor([0.3956, 0.3077, 0.2469])\n",
      "tensor([3.3755, 3.5785, 3.1426]) tensor([0.7732, 0.5480, 0.4324])\n",
      "tensor([3.0256, 3.2849, 2.8393]) tensor([0.5146, 0.3709, 0.2680])\n",
      "tensor([3.9646, 4.0757, 3.5011]) tensor([0.6070, 0.4911, 0.4148])\n",
      "tensor([3.4137, 3.5876, 3.1876]) tensor([0.4593, 0.3638, 0.3057])\n",
      "tensor([3.2264, 3.5829, 3.2544]) tensor([0.3165, 0.2619, 0.2151])\n",
      "tensor([2.8231, 3.0540, 2.6480]) tensor([0.5121, 0.3791, 0.2908])\n",
      "tensor([3.2149, 3.4525, 3.0168]) tensor([0.6352, 0.4517, 0.3636])\n",
      "tensor([3.1694, 3.4357, 2.9604]) tensor([0.4136, 0.3231, 0.2472])\n",
      "tensor([2.7540, 3.1412, 2.7845]) tensor([0.3791, 0.3051, 0.2472])\n",
      "tensor([3.1910, 3.5876, 3.1903]) tensor([0.3982, 0.3212, 0.2622])\n",
      "tensor([3.0275, 3.3666, 2.9171]) tensor([0.4096, 0.3141, 0.2465])\n",
      "tensor([3.5737, 3.5959, 2.9995]) tensor([0.4498, 0.3555, 0.2896])\n",
      "tensor([2.6036, 2.9851, 2.7006]) tensor([0.4610, 0.3619, 0.3046])\n",
      "tensor([3.8966, 4.0960, 3.6290]) tensor([0.5067, 0.4264, 0.4212])\n",
      "tensor([3.5554, 3.7257, 3.2502]) tensor([0.6923, 0.5562, 0.5453])\n",
      "tensor([3.4655, 3.8663, 3.6609]) tensor([0.4146, 0.3249, 0.2593])\n",
      "tensor([2.5968, 2.9753, 2.5887]) tensor([0.5534, 0.4427, 0.3617])\n",
      "tensor([2.5716, 2.9261, 2.5643]) tensor([0.5349, 0.4365, 0.3662])\n",
      "tensor([3.2978, 3.5929, 3.1635]) tensor([0.3503, 0.2535, 0.2066])\n",
      "tensor([2.8789, 3.0904, 2.5410]) tensor([0.4486, 0.3696, 0.3096])\n",
      "tensor([2.3448, 2.6506, 2.4363]) tensor([0.4555, 0.3904, 0.3144])\n",
      "tensor([3.0982, 3.3717, 2.9262]) tensor([0.4624, 0.3592, 0.2778])\n",
      "tensor([2.5546, 2.9889, 2.6996]) tensor([0.4203, 0.3194, 0.2441])\n",
      "tensor([2.9425, 3.2106, 2.6868]) tensor([0.4685, 0.3853, 0.2986])\n",
      "tensor([2.6740, 3.0932, 2.6610]) tensor([0.2881, 0.2191, 0.1634])\n",
      "tensor([2.4111, 2.8887, 2.6235]) tensor([0.3915, 0.3335, 0.2813])\n",
      "tensor([2.8942, 3.2566, 2.9795]) tensor([0.6593, 0.5619, 0.4883])\n",
      "tensor([2.4328, 2.8431, 2.4391]) tensor([0.5166, 0.3820, 0.2910])\n",
      "tensor([3.2642, 3.4606, 3.0209]) tensor([0.4242, 0.3225, 0.2532])\n",
      "tensor([2.9229, 3.1022, 2.5665]) tensor([0.4388, 0.3364, 0.2518])\n",
      "tensor([3.8285, 4.0062, 3.6187]) tensor([0.4367, 0.3521, 0.3274])\n",
      "tensor([3.5537, 3.7707, 3.3372]) tensor([0.5084, 0.4377, 0.4065])\n",
      "tensor([3.2948, 3.5587, 3.1275]) tensor([0.7155, 0.5577, 0.4457])\n",
      "tensor([2.9391, 3.2767, 2.9436]) tensor([0.5978, 0.4411, 0.3639])\n",
      "tensor([2.9860, 3.1718, 2.7506]) tensor([0.4921, 0.3615, 0.2739])\n",
      "tensor([3.3238, 3.6645, 3.2763]) tensor([0.5992, 0.5003, 0.4205])\n",
      "tensor([2.8654, 3.1672, 2.7390]) tensor([0.4209, 0.3322, 0.2537])\n",
      "tensor([4.6050, 4.7949, 4.4120]) tensor([0.4398, 0.3489, 0.3124])\n",
      "tensor([2.2280, 2.6895, 2.4000]) tensor([0.2353, 0.2110, 0.1455])\n",
      "tensor([2.8816, 3.2720, 2.9503]) tensor([0.5671, 0.4562, 0.3798])\n",
      "tensor([3.0435, 3.3394, 2.8913]) tensor([0.3971, 0.3115, 0.2455])\n",
      "tensor([2.9422, 3.2692, 2.8298]) tensor([0.6743, 0.4917, 0.3759])\n",
      "tensor([3.4226, 3.6483, 3.0824]) tensor([0.2886, 0.2242, 0.1721])\n",
      "tensor([2.7372, 3.1154, 2.7965]) tensor([0.7056, 0.5983, 0.5273])\n",
      "tensor([2.9659, 3.3342, 2.9999]) tensor([0.4349, 0.3236, 0.2627])\n",
      "tensor([2.9723, 3.3141, 2.8678]) tensor([0.4288, 0.3244, 0.2336])\n",
      "tensor([3.3135, 3.4611, 3.1510]) tensor([0.4595, 0.3753, 0.3568])\n",
      "tensor([3.0633, 3.3153, 2.9565]) tensor([0.5922, 0.4372, 0.3589])\n",
      "tensor([3.4724, 3.7835, 3.4405]) tensor([0.2676, 0.2007, 0.1431])\n",
      "tensor([2.3146, 2.7341, 2.3072]) tensor([0.4511, 0.3280, 0.2542])\n",
      "tensor([3.2230, 3.5261, 2.9668]) tensor([0.4191, 0.3025, 0.2324])\n",
      "tensor([2.4162, 2.8219, 2.4905]) tensor([0.2422, 0.1992, 0.1654])\n",
      "tensor([3.3733, 3.6422, 3.2713]) tensor([0.4306, 0.3461, 0.3015])\n",
      "tensor([3.5335, 3.7196, 3.2570]) tensor([0.4923, 0.3890, 0.3309])\n",
      "tensor([2.6449, 2.9613, 2.5830]) tensor([0.5256, 0.4272, 0.3953])\n",
      "tensor([2.9352, 3.2831, 2.8480]) tensor([0.3497, 0.2821, 0.2382])\n",
      "tensor([2.6211, 3.0495, 2.8197]) tensor([0.2689, 0.2080, 0.1591])\n",
      "tensor([3.1608, 3.3363, 2.8872]) tensor([0.4768, 0.3557, 0.2552])\n",
      "tensor([3.7787, 3.9495, 3.4222]) tensor([0.5450, 0.3933, 0.3284])\n",
      "tensor([2.4846, 2.9291, 2.5781]) tensor([0.2941, 0.2509, 0.1879])\n",
      "tensor([2.9159, 3.1735, 2.7518]) tensor([0.6779, 0.4866, 0.3814])\n",
      "tensor([2.9001, 3.2536, 2.8335]) tensor([0.6176, 0.5053, 0.4168])\n",
      "tensor([3.7559, 3.7723, 3.3058]) tensor([0.5411, 0.4208, 0.3417])\n",
      "tensor([3.0051, 3.3888, 3.0526]) tensor([0.4207, 0.3300, 0.2601])\n",
      "tensor([3.6518, 3.9881, 3.5855]) tensor([0.3049, 0.2315, 0.1770])\n",
      "tensor([3.2857, 3.6526, 3.2389]) tensor([0.5661, 0.5065, 0.4321])\n",
      "tensor([3.1693, 3.5543, 3.2036]) tensor([0.2968, 0.2618, 0.2395])\n",
      "tensor([3.5311, 3.7366, 3.2066]) tensor([0.4365, 0.3710, 0.3206])\n",
      "tensor([3.1526, 3.4360, 3.0656]) tensor([0.6578, 0.5202, 0.4553])\n",
      "tensor([1.9144, 2.4104, 2.1278]) tensor([0.2356, 0.2001, 0.1445])\n",
      "tensor([2.2920, 2.6560, 2.2766]) tensor([0.2818, 0.2258, 0.1663])\n",
      "tensor([3.5405, 3.6449, 3.2064]) tensor([0.6348, 0.5135, 0.4125])\n",
      "tensor([2.5672, 2.9468, 2.5109]) tensor([0.4756, 0.3863, 0.3212])\n",
      "tensor([2.9010, 3.2820, 2.9140]) tensor([0.3199, 0.2695, 0.2042])\n",
      "tensor([3.0802, 3.2704, 2.8563]) tensor([0.3326, 0.2870, 0.2382])\n",
      "tensor([2.9598, 3.2908, 2.9147]) tensor([0.4424, 0.3620, 0.2589])\n",
      "tensor([3.3736, 3.7258, 3.4033]) tensor([0.4776, 0.3704, 0.2945])\n",
      "tensor([3.0813, 3.2905, 2.7945]) tensor([0.3933, 0.3158, 0.2566])\n",
      "tensor([2.7978, 3.1057, 2.7835]) tensor([0.3420, 0.2787, 0.2074])\n",
      "tensor([3.9278, 4.0742, 3.5026]) tensor([0.6459, 0.4968, 0.4033])\n",
      "tensor([2.8361, 3.2527, 2.8013]) tensor([0.4923, 0.3806, 0.3100])\n",
      "tensor([2.9289, 3.2883, 2.7681]) tensor([0.5148, 0.3655, 0.2727])\n",
      "tensor([3.7422, 3.9852, 3.5260]) tensor([0.6792, 0.5507, 0.4928])\n",
      "tensor([3.4006, 3.6809, 3.0966]) tensor([0.6754, 0.5586, 0.4273])\n",
      "tensor([2.8032, 3.1826, 2.7967]) tensor([0.4544, 0.3400, 0.2592])\n",
      "tensor([2.9486, 3.3575, 3.0202]) tensor([0.3580, 0.2760, 0.2095])\n",
      "tensor([3.1210, 3.5457, 3.1993]) tensor([0.5939, 0.4754, 0.4023])\n",
      "tensor([2.6506, 3.0615, 2.6724]) tensor([0.3202, 0.2431, 0.1732])\n"
     ]
    }
   ],
   "source": [
    "mean = 0.\n",
    "std = 0.\n",
    "nb_samples = 0.\n",
    "for data, _ in train_dl:\n",
    "    batch_samples = data.size(0)\n",
    "    data = data.view(batch_samples, data.size(1), -1)\n",
    "    mean += data.mean(2).sum(0)\n",
    "    std += data.std(2).sum(0)\n",
    "    print(data.mean(2).sum(0), data.std(2).sum(0))\n",
    "    nb_samples += batch_samples\n",
    "\n",
    "mean /= nb_samples\n",
    "std /= nb_samples"
   ]
  },
  {
   "cell_type": "code",
   "execution_count": 77,
   "metadata": {},
   "outputs": [
    {
     "data": {
      "text/plain": [
       "tensor([0.1325, 0.1531, 0.1336])"
      ]
     },
     "execution_count": 77,
     "metadata": {},
     "output_type": "execute_result"
    }
   ],
   "source": [
    "data.mean(2).sum(0) / 20"
   ]
  },
  {
   "cell_type": "code",
   "execution_count": 75,
   "metadata": {},
   "outputs": [
    {
     "data": {
      "text/plain": [
       "tensor([0.1325, 0.1531, 0.1336])"
      ]
     },
     "execution_count": 75,
     "metadata": {},
     "output_type": "execute_result"
    }
   ],
   "source": [
    "data.mean(2).sum(0) / 20"
   ]
  },
  {
   "cell_type": "code",
   "execution_count": 68,
   "metadata": {},
   "outputs": [
    {
     "data": {
      "text/plain": [
       "(tensor([0.3098, 0.3394, 0.2985]), tensor([0.0474, 0.0374, 0.0306]))"
      ]
     },
     "execution_count": 68,
     "metadata": {},
     "output_type": "execute_result"
    }
   ],
   "source": [
    "mean, std"
   ]
  },
  {
   "cell_type": "code",
   "execution_count": null,
   "metadata": {},
   "outputs": [],
   "source": [
    "nb_samples = len(train_dl) * BS"
   ]
  },
  {
   "cell_type": "code",
   "execution_count": null,
   "metadata": {},
   "outputs": [],
   "source": [
    "mean /= nb_samples\n",
    "std /= nb_samples"
   ]
  },
  {
   "cell_type": "code",
   "execution_count": null,
   "metadata": {},
   "outputs": [],
   "source": [
    "mean, std"
   ]
  },
  {
   "cell_type": "markdown",
   "metadata": {},
   "source": [
    "#### Check how the images look after normalization"
   ]
  },
  {
   "cell_type": "code",
   "execution_count": 85,
   "metadata": {},
   "outputs": [],
   "source": [
    "def get_data():\n",
    "    CSV_PATH = DATA_PATH/'train_v2.csv'\n",
    "    IMG_FOLDER = DATA_PATH/'train-jpg'\n",
    "    EXT = 'jpg'\n",
    "    BS = 10\n",
    "    MEAN, STD = np.array([0.3098, 0.3394, 0.2985]), np.array([0.0474, 0.0374, 0.0306])\n",
    "\n",
    "    transform = transforms.Compose([\n",
    "        transforms.Resize(64),\n",
    "        transforms.ToTensor(),\n",
    "        transforms.Normalize((0.5,0.5, 0.5), (0.5, 0.5, 0.5))\n",
    "    ])\n",
    "\n",
    "    train_ds = PlanetDataset(CSV_PATH/'train.csv', IMG_FOLDER, EXT, transform)\n",
    "    val_ds = PlanetDataset(CSV_PATH/'val.csv', IMG_FOLDER, EXT, transform, val=True)\n",
    "    train_dl = DataLoader(train_ds, batch_size=BS, shuffle=True, drop_last=True)\n",
    "    val_dl = DataLoader(val_ds, batch_size=BS * 2, shuffle=False, drop_last=True)\n",
    "    \n",
    "    return (train_dl, val_dl)"
   ]
  },
  {
   "cell_type": "code",
   "execution_count": 86,
   "metadata": {},
   "outputs": [],
   "source": [
    "train_dl, val_dl = get_data()"
   ]
  },
  {
   "cell_type": "code",
   "execution_count": 87,
   "metadata": {},
   "outputs": [],
   "source": [
    "sample = next(iter(val_dl))"
   ]
  },
  {
   "cell_type": "code",
   "execution_count": 90,
   "metadata": {},
   "outputs": [
    {
     "name": "stderr",
     "output_type": "stream",
     "text": [
      "Clipping input data to the valid range for imshow with RGB data ([0..1] for floats or [0..255] for integers).\n"
     ]
    },
    {
     "data": {
      "text/plain": [
       "<matplotlib.image.AxesImage at 0x7fcc64f45470>"
      ]
     },
     "execution_count": 90,
     "metadata": {},
     "output_type": "execute_result"
    },
    {
     "data": {
      "image/png": "[encoded data removed]",
      "text/plain": [
       "<Figure size 432x288 with 1 Axes>"
      ]
     },
     "metadata": {
      "needs_background": "light"
     },
     "output_type": "display_data"
    }
   ],
   "source": [
    "%matplotlib inline\n",
    "import matplotlib.pyplot as plt\n",
    "\n",
    "plt.imshow(sample[0][3].permute(2, 1, 0).numpy())"
   ]
  },
  {
   "cell_type": "code",
   "execution_count": 31,
   "metadata": {},
   "outputs": [
    {
     "data": {
      "text/plain": [
       "tensor([[[0.7059, 0.7059, 0.7059,  ..., 0.7137, 0.7137, 0.7137],\n",
       "         [0.7059, 0.7059, 0.7098,  ..., 0.7137, 0.7137, 0.7137],\n",
       "         [0.7098, 0.7098, 0.7098,  ..., 0.7137, 0.7137, 0.7176],\n",
       "         ...,\n",
       "         [0.7137, 0.7137, 0.7137,  ..., 0.7098, 0.7098, 0.7098],\n",
       "         [0.7137, 0.7137, 0.7137,  ..., 0.7098, 0.7098, 0.7098],\n",
       "         [0.7137, 0.7137, 0.7137,  ..., 0.7098, 0.7098, 0.7098]],\n",
       "\n",
       "        [[0.6196, 0.6196, 0.6196,  ..., 0.6196, 0.6196, 0.6196],\n",
       "         [0.6196, 0.6196, 0.6196,  ..., 0.6196, 0.6196, 0.6196],\n",
       "         [0.6157, 0.6157, 0.6196,  ..., 0.6196, 0.6196, 0.6196],\n",
       "         ...,\n",
       "         [0.6235, 0.6235, 0.6235,  ..., 0.6196, 0.6196, 0.6196],\n",
       "         [0.6235, 0.6235, 0.6235,  ..., 0.6157, 0.6118, 0.6196],\n",
       "         [0.6235, 0.6235, 0.6235,  ..., 0.6157, 0.6118, 0.6196]],\n",
       "\n",
       "        [[0.5137, 0.5137, 0.5176,  ..., 0.5216, 0.5216, 0.5216],\n",
       "         [0.5137, 0.5176, 0.5176,  ..., 0.5137, 0.5216, 0.5216],\n",
       "         [0.5176, 0.5176, 0.5176,  ..., 0.5098, 0.5216, 0.5255],\n",
       "         ...,\n",
       "         [0.5255, 0.5255, 0.5216,  ..., 0.5176, 0.5176, 0.5176],\n",
       "         [0.5294, 0.5255, 0.5216,  ..., 0.5137, 0.5137, 0.5137],\n",
       "         [0.5255, 0.5294, 0.5255,  ..., 0.5137, 0.5137, 0.5137]]])"
      ]
     },
     "execution_count": 31,
     "metadata": {},
     "output_type": "execute_result"
    }
   ],
   "source": [
    "sample[0][1]"
   ]
  },
  {
   "cell_type": "code",
   "execution_count": 39,
   "metadata": {},
   "outputs": [],
   "source": [
    "transforms.Normalize??"
   ]
  },
  {
   "cell_type": "code",
   "execution_count": 40,
   "metadata": {},
   "outputs": [
    {
     "ename": "NameError",
     "evalue": "name 'data' is not defined",
     "output_type": "error",
     "traceback": [
      "\u001b[0;31m---------------------------------------------------------------------------\u001b[0m",
      "\u001b[0;31mNameError\u001b[0m                                 Traceback (most recent call last)",
      "\u001b[0;32m<ipython-input-40-047ed65ff157>\u001b[0m in \u001b[0;36m<module>\u001b[0;34m\u001b[0m\n\u001b[0;32m----> 1\u001b[0;31m \u001b[0mdata\u001b[0m\u001b[0;34m.\u001b[0m\u001b[0mshape\u001b[0m\u001b[0;34m\u001b[0m\u001b[0;34m\u001b[0m\u001b[0m\n\u001b[0m",
      "\u001b[0;31mNameError\u001b[0m: name 'data' is not defined"
     ]
    }
   ],
   "source": [
    "data.shape"
   ]
  },
  {
   "cell_type": "code",
   "execution_count": 54,
   "metadata": {},
   "outputs": [],
   "source": [
    "data = next(iter(val_dl))"
   ]
  },
  {
   "cell_type": "code",
   "execution_count": 55,
   "metadata": {},
   "outputs": [
    {
     "data": {
      "text/plain": [
       "torch.Size([20, 3, 64, 64])"
      ]
     },
     "execution_count": 55,
     "metadata": {},
     "output_type": "execute_result"
    }
   ],
   "source": [
    "data = data[0]\n",
    "data.shape"
   ]
  },
  {
   "cell_type": "code",
   "execution_count": 59,
   "metadata": {},
   "outputs": [],
   "source": [
    "means = []\n",
    "stds = []\n",
    "\n",
    "for i in range(3):\n",
    "    means.append(data[:, i, :, :].flatten().mean().data)\n",
    "    stds.append(data[:, i, :, :].flatten().std().data)"
   ]
  },
  {
   "cell_type": "code",
   "execution_count": 62,
   "metadata": {},
   "outputs": [
    {
     "data": {
      "text/plain": [
       "([tensor(0.3932), tensor(0.3959), tensor(0.3324)],\n",
       " [tensor(0.2008), tensor(0.1663), tensor(0.1643)])"
      ]
     },
     "execution_count": 62,
     "metadata": {},
     "output_type": "execute_result"
    }
   ],
   "source": [
    "means, stds"
   ]
  },
  {
   "cell_type": "markdown",
   "metadata": {},
   "source": [
    "    ### Running to see the effect of normalization"
   ]
  },
  {
   "cell_type": "code",
   "execution_count": 1,
   "metadata": {},
   "outputs": [],
   "source": [
    "from dataset import get_data"
   ]
  },
  {
   "cell_type": "code",
   "execution_count": 2,
   "metadata": {},
   "outputs": [],
   "source": [
    "_, val_dl = get_data()"
   ]
  },
  {
   "cell_type": "code",
   "execution_count": null,
   "metadata": {},
   "outputs": [],
   "source": [
    "sample = "
   ]
  }
 ],
 "metadata": {
  "kernelspec": {
   "display_name": "Torch",
   "language": "python",
   "name": "torch"
  },
  "language_info": {
   "codemirror_mode": {
    "name": "ipython",
    "version": 3
   },
   "file_extension": ".py",
   "mimetype": "text/x-python",
   "name": "python",
   "nbconvert_exporter": "python",
   "pygments_lexer": "ipython3",
   "version": "3.6.8"
  }
 },
 "nbformat": 4,
 "nbformat_minor": 2
}
