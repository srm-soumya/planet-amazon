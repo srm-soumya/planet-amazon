{
 "cells": [
  {
   "cell_type": "code",
   "execution_count": 1,
   "metadata": {},
   "outputs": [],
   "source": [
    "%reload_ext autoreload\n",
    "%autoreload 2\n",
    "%matplotlib inline"
   ]
  },
  {
   "cell_type": "code",
   "execution_count": 2,
   "metadata": {},
   "outputs": [],
   "source": [
    "import torch \n",
    "import torch.nn as nn\n",
    "import torch.optim as optim\n",
    "import torch.nn.functional as F\n",
    "\n",
    "from dataset import get_data\n",
    "from model import Net\n",
    "\n",
    "import numpy as np\n",
    "from sklearn.metrics import fbeta_score"
   ]
  },
  {
   "cell_type": "code",
   "execution_count": 5,
   "metadata": {},
   "outputs": [],
   "source": [
    "train_dl, val_dl = get_data()\n",
    "model = Net([16, 32, 64], 17)"
   ]
  },
  {
   "cell_type": "code",
   "execution_count": 6,
   "metadata": {},
   "outputs": [],
   "source": [
    "EPOCHS = 2\n",
    "LR = 5e-2\n",
    "BS = train_dl.batch_size\n",
    "BATCHES = len(train_dl)\n",
    "PRINT = 20"
   ]
  },
  {
   "cell_type": "code",
   "execution_count": 7,
   "metadata": {},
   "outputs": [],
   "source": [
    "criterion = nn.BCELoss()\n",
    "optimizer = optim.SGD(model.parameters(), lr=LR)"
   ]
  },
  {
   "cell_type": "code",
   "execution_count": 8,
   "metadata": {},
   "outputs": [],
   "source": [
    "device = torch.device('cuda') if torch.cuda.is_available() else torch.device('cpu')\n",
    "model = model.to(device)"
   ]
  },
  {
   "cell_type": "code",
   "execution_count": 9,
   "metadata": {},
   "outputs": [],
   "source": [
    "def f2_score(output, target, threshold=0.5):\n",
    "    target, output = target.cpu().numpy(), output.detach().cpu().numpy()\n",
    "    output = output > 0.3\n",
    "    return fbeta_score(target, output, beta=2, average='samples')"
   ]
  },
  {
   "cell_type": "code",
   "execution_count": 10,
   "metadata": {},
   "outputs": [
    {
     "name": "stdout",
     "output_type": "stream",
     "text": [
      "Epoch: 1: [200/2000] 10% Loss: 0.67 Accuracy: 0.51\n",
      "Epoch: 1: [400/2000] 20% Loss: 0.66 Accuracy: 0.46\n",
      "Epoch: 1: [600/2000] 30% Loss: 0.65 Accuracy: 0.47\n",
      "Epoch: 1: [800/2000] 40% Loss: 0.62 Accuracy: 0.47\n",
      "Epoch: 1: [1000/2000] 50% Loss: 0.61 Accuracy: 0.45\n",
      "Epoch: 1: [1200/2000] 60% Loss: 0.64 Accuracy: 0.56\n",
      "Epoch: 1: [1400/2000] 70% Loss: 0.61 Accuracy: 0.52\n",
      "Epoch: 1: [1600/2000] 80% Loss: 0.60 Accuracy: 0.55\n",
      "Epoch: 1: [1800/2000] 90% Loss: 0.59 Accuracy: 0.51\n",
      "Epoch: 1: [2000/2000] 100% Loss: 0.55 Accuracy: 0.48\n",
      "Val Loss: 1.42 Accuracy: 0.53\n",
      "Epoch: 2: [200/2000] 10% Loss: 0.53 Accuracy: 0.52\n",
      "Epoch: 2: [400/2000] 20% Loss: 0.54 Accuracy: 0.52\n",
      "Epoch: 2: [600/2000] 30% Loss: 0.51 Accuracy: 0.45\n",
      "Epoch: 2: [800/2000] 40% Loss: 0.50 Accuracy: 0.50\n",
      "Epoch: 2: [1000/2000] 50% Loss: 0.49 Accuracy: 0.46\n",
      "Epoch: 2: [1200/2000] 60% Loss: 0.47 Accuracy: 0.54\n",
      "Epoch: 2: [1400/2000] 70% Loss: 0.45 Accuracy: 0.50\n",
      "Epoch: 2: [1600/2000] 80% Loss: 0.44 Accuracy: 0.61\n",
      "Epoch: 2: [1800/2000] 90% Loss: 0.44 Accuracy: 0.64\n",
      "Epoch: 2: [2000/2000] 100% Loss: 0.41 Accuracy: 0.69\n",
      "Val Loss: 1.06 Accuracy: 0.69\n"
     ]
    }
   ],
   "source": [
    "train_losses, train_accuracies = [], []\n",
    "val_losses, val_accuracies = [], []\n",
    "\n",
    "for epoch in range(1, EPOCHS + 1):\n",
    "    model.train()\n",
    "    for idx, (data, target) in enumerate(train_dl, 1):\n",
    "        data, target = data.to(device), target.to(device)\n",
    "        \n",
    "        output = model(data)\n",
    "        loss = criterion(output, target)\n",
    "        accuracy = f2_score(output, target) \n",
    "        loss.backward()\n",
    "        optimizer.step()\n",
    "        optimizer.zero_grad()\n",
    "        \n",
    "        if idx % PRINT == 0:\n",
    "            print(f'Epoch: {epoch}: [{idx*BS}/{BS*BATCHES}] {int((idx*BS)/(BS*BATCHES)*100)}% Loss: {loss.item():.2f} Accuracy: {accuracy:.2f}')\n",
    "        \n",
    "    model.eval()\n",
    "    with torch.no_grad():\n",
    "        val_loss = 0.\n",
    "        for idx, (data, target) in enumerate(val_dl):\n",
    "            data, target = data.to(device), target.to(device)\n",
    "            output = model(data)\n",
    "            val_loss += criterion(output, target)\n",
    "            accuracy = f2_score(output, target)\n",
    "        print(f'Val Loss: {val_loss.item()/BS*len(val_dl):.2f} Accuracy: {accuracy:.2f}')"
   ]
  },
  {
   "cell_type": "code",
   "execution_count": 14,
   "metadata": {},
   "outputs": [
    {
     "name": "stdout",
     "output_type": "stream",
     "text": [
      "conv1.weight torch.Size([16, 3, 5, 5])\n",
      "conv1.bias torch.Size([16])\n",
      "layers.0.conv.weight torch.Size([32, 16, 3, 3])\n",
      "layers.0.conv.bias torch.Size([32])\n",
      "layers.0.bn.weight torch.Size([32])\n",
      "layers.0.bn.bias torch.Size([32])\n",
      "layers.0.bn.running_mean torch.Size([32])\n",
      "layers.0.bn.running_var torch.Size([32])\n",
      "layers.0.bn.num_batches_tracked torch.Size([])\n",
      "layers.1.conv.weight torch.Size([64, 32, 3, 3])\n",
      "layers.1.conv.bias torch.Size([64])\n",
      "layers.1.bn.weight torch.Size([64])\n",
      "layers.1.bn.bias torch.Size([64])\n",
      "layers.1.bn.running_mean torch.Size([64])\n",
      "layers.1.bn.running_var torch.Size([64])\n",
      "layers.1.bn.num_batches_tracked torch.Size([])\n",
      "linear.weight torch.Size([17, 64])\n",
      "linear.bias torch.Size([17])\n"
     ]
    }
   ],
   "source": [
    "msd = model.state_dict()\n",
    "for name, tensor in msd.items():\n",
    "    print(name, tensor.shape)"
   ]
  },
  {
   "cell_type": "code",
   "execution_count": 15,
   "metadata": {},
   "outputs": [
    {
     "data": {
      "text/plain": [
       "{'state': {},\n",
       " 'param_groups': [{'lr': 0.05,\n",
       "   'momentum': 0,\n",
       "   'dampening': 0,\n",
       "   'weight_decay': 0,\n",
       "   'nesterov': False,\n",
       "   'params': [140334376741264,\n",
       "    140334361509104,\n",
       "    140334361509032,\n",
       "    140334361508240,\n",
       "    140334362312424,\n",
       "    140334362312496,\n",
       "    140334372081808,\n",
       "    140334372081880,\n",
       "    140334372081952,\n",
       "    140334372082024,\n",
       "    140334372082312,\n",
       "    140334372082384]}]}"
      ]
     },
     "execution_count": 15,
     "metadata": {},
     "output_type": "execute_result"
    }
   ],
   "source": [
    "osd = optimizer.state_dict()\n",
    "osd"
   ]
  },
  {
   "cell_type": "code",
   "execution_count": 11,
   "metadata": {},
   "outputs": [],
   "source": [
    "sample, target = next(iter(val_dl))"
   ]
  },
  {
   "cell_type": "code",
   "execution_count": 12,
   "metadata": {},
   "outputs": [
    {
     "data": {
      "text/plain": [
       "(torch.Size([20, 3, 64, 64]), torch.Size([20, 17]))"
      ]
     },
     "execution_count": 12,
     "metadata": {},
     "output_type": "execute_result"
    }
   ],
   "source": [
    "sample.shape, target.shape"
   ]
  },
  {
   "cell_type": "code",
   "execution_count": 13,
   "metadata": {},
   "outputs": [],
   "source": [
    "img = sample[1]\n",
    "classes = target[1]"
   ]
  },
  {
   "cell_type": "code",
   "execution_count": 14,
   "metadata": {},
   "outputs": [
    {
     "data": {
      "text/plain": [
       "<matplotlib.image.AxesImage at 0x7fd72c363160>"
      ]
     },
     "execution_count": 14,
     "metadata": {},
     "output_type": "execute_result"
    },
    {
     "data": {
      "image/png": "[encoded data removed]",
      "text/plain": [
       "<Figure size 432x288 with 1 Axes>"
      ]
     },
     "metadata": {
      "needs_background": "light"
     },
     "output_type": "display_data"
    }
   ],
   "source": [
    "import matplotlib.pyplot as plt\n",
    "plt.imshow(img.permute(1,2,0).numpy())"
   ]
  },
  {
   "cell_type": "code",
   "execution_count": 15,
   "metadata": {},
   "outputs": [],
   "source": [
    "orig = list(zip(val_dl.dataset.mlb.classes_, classes))"
   ]
  },
  {
   "cell_type": "code",
   "execution_count": 16,
   "metadata": {},
   "outputs": [],
   "source": [
    "output = model(img.unsqueeze_(dim=0).to(device))"
   ]
  },
  {
   "cell_type": "code",
   "execution_count": 17,
   "metadata": {},
   "outputs": [],
   "source": [
    "pred = list(zip(val_dl.dataset.mlb.classes_, (output > 0.5).squeeze().cpu().numpy()))"
   ]
  },
  {
   "cell_type": "code",
   "execution_count": 18,
   "metadata": {},
   "outputs": [],
   "source": [
    "orig = [(name, score) for (name, score) in orig if score.cpu().item() == 1.0]\n",
    "pred = [(name, score) for (name, score) in pred if score == 1.0]"
   ]
  },
  {
   "cell_type": "code",
   "execution_count": 19,
   "metadata": {},
   "outputs": [
    {
     "data": {
      "text/plain": [
       "([('agriculture', 1), ('primary', 1), ('road', 1)],\n",
       " [('clear', tensor(1.)), ('primary', tensor(1.)), ('water', tensor(1.))])"
      ]
     },
     "execution_count": 19,
     "metadata": {},
     "output_type": "execute_result"
    }
   ],
   "source": [
    "pred, orig"
   ]
  },
  {
   "cell_type": "code",
   "execution_count": null,
   "metadata": {},
   "outputs": [],
   "source": []
  }
 ],
 "metadata": {
  "kernelspec": {
   "display_name": "Torch",
   "language": "python",
   "name": "torch"
  },
  "language_info": {
   "codemirror_mode": {
    "name": "ipython",
    "version": 3
   },
   "file_extension": ".py",
   "mimetype": "text/x-python",
   "name": "python",
   "nbconvert_exporter": "python",
   "pygments_lexer": "ipython3",
   "version": "3.6.8"
  }
 },
 "nbformat": 4,
 "nbformat_minor": 2
}
