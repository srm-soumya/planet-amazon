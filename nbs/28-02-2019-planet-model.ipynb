{
 "cells": [
  {
   "cell_type": "code",
   "execution_count": 28,
   "metadata": {},
   "outputs": [],
   "source": [
    "import torch\n",
    "import torch.nn as nn\n",
    "import torch.nn.functional as F\n",
    "\n",
    "import pdb"
   ]
  },
  {
   "cell_type": "code",
   "execution_count": 34,
   "metadata": {},
   "outputs": [],
   "source": [
    "def conv3x3(ni, no, ks=3, s=2, p=1):\n",
    "    # reduces the image size by a factor of 2\n",
    "    return nn.Conv2d(ni, no, kernel_size=3, stride=s, padding=p)\n",
    "\n",
    "def conv1x1(ni, no, ks=1, s=1, p=0):\n",
    "    return nn.Conv2d(ni, no, kernel_size=ks, stride=s, padding=p)\n",
    "\n",
    "class ConvBlock(nn.Module):\n",
    "    '''\n",
    "    ConvBlock: BatchNorm -> ReLU -> Conv\n",
    "    '''\n",
    "    def __init__(self, ni, no):\n",
    "        super().__init__()\n",
    "        self.conv = conv3x3(ni, no)\n",
    "        self.bn = nn.BatchNorm2d(no)\n",
    "    \n",
    "    def forward(self, x):\n",
    "        return self.bn(F.relu_(self.conv(x))) \n",
    "        \n",
    "class Net(nn.Module):\n",
    "    def __init__(self, layers, c):\n",
    "        # layers: [3, 16, 32]\n",
    "        # c: 17\n",
    "        super().__init__()\n",
    "        self.conv1 = nn.Conv2d(3, 16, kernel_size=5, stride=1, padding=2)\n",
    "        self.layers = nn.ModuleList([ConvBlock(layers[i], layers[i+1]) for i in range(len(layers) - 1)])\n",
    "        self.linear = nn.Linear(layers[-1], c)\n",
    "        \n",
    "    def forward(self, x):\n",
    "        # x: bs x 3 x 64 x 64\n",
    "        x = self.conv1(x)\n",
    "        for layer in self.layers: x = layer(x)\n",
    "        # x: bs x channels x size x size\n",
    "        x = F.adaptive_avg_pool2d(x, 1)\n",
    "        # x: bs x channels\n",
    "        x = x.view(x.size(0), -1)\n",
    "        # x: bs x c\n",
    "        x = self.linear(x)\n",
    "        \n",
    "        return torch.sigmoid(x)"
   ]
  },
  {
   "cell_type": "code",
   "execution_count": 35,
   "metadata": {},
   "outputs": [],
   "source": [
    "net = Net([16, 32, 64], 16)"
   ]
  },
  {
   "cell_type": "code",
   "execution_count": 36,
   "metadata": {},
   "outputs": [
    {
     "data": {
      "text/plain": [
       "Net(\n",
       "  (conv1): Conv2d(3, 16, kernel_size=(5, 5), stride=(1, 1), padding=(2, 2))\n",
       "  (layers): ModuleList(\n",
       "    (0): ConvBlock(\n",
       "      (conv): Conv2d(16, 32, kernel_size=(3, 3), stride=(2, 2), padding=(1, 1))\n",
       "      (bn): BatchNorm2d(32, eps=1e-05, momentum=0.1, affine=True, track_running_stats=True)\n",
       "    )\n",
       "    (1): ConvBlock(\n",
       "      (conv): Conv2d(32, 64, kernel_size=(3, 3), stride=(2, 2), padding=(1, 1))\n",
       "      (bn): BatchNorm2d(64, eps=1e-05, momentum=0.1, affine=True, track_running_stats=True)\n",
       "    )\n",
       "  )\n",
       "  (linear): Linear(in_features=64, out_features=16, bias=True)\n",
       ")"
      ]
     },
     "execution_count": 36,
     "metadata": {},
     "output_type": "execute_result"
    }
   ],
   "source": [
    "net"
   ]
  },
  {
   "cell_type": "code",
   "execution_count": 28,
   "metadata": {},
   "outputs": [],
   "source": [
    "import torch"
   ]
  },
  {
   "cell_type": "code",
   "execution_count": 36,
   "metadata": {},
   "outputs": [],
   "source": [
    "criterion = torch.nn.BCELoss()\n",
    "\n",
    "out = torch.randn(10, 16)\n",
    "out = torch.sigmoid(out)\n",
    "target = torch.randint_like(out, low=0, high=2)"
   ]
  },
  {
   "cell_type": "code",
   "execution_count": 37,
   "metadata": {},
   "outputs": [],
   "source": [
    "loss = criterion(out, target)"
   ]
  },
  {
   "cell_type": "code",
   "execution_count": 38,
   "metadata": {},
   "outputs": [
    {
     "data": {
      "text/plain": [
       "tensor(0.8433)"
      ]
     },
     "execution_count": 38,
     "metadata": {},
     "output_type": "execute_result"
    }
   ],
   "source": [
    "loss"
   ]
  },
  {
   "cell_type": "code",
   "execution_count": null,
   "metadata": {},
   "outputs": [],
   "source": [
    "criterion = torch"
   ]
  }
 ],
 "metadata": {
  "kernelspec": {
   "display_name": "Torch",
   "language": "python",
   "name": "torch"
  },
  "language_info": {
   "codemirror_mode": {
    "name": "ipython",
    "version": 3
   },
   "file_extension": ".py",
   "mimetype": "text/x-python",
   "name": "python",
   "nbconvert_exporter": "python",
   "pygments_lexer": "ipython3",
   "version": "3.6.8"
  }
 },
 "nbformat": 4,
 "nbformat_minor": 2
}
