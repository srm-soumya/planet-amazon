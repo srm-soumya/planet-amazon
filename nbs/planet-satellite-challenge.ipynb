{
 "cells": [
  {
   "cell_type": "markdown",
   "metadata": {},
   "source": [
    "# Satellite Image Classification API Demo\n",
    "\n",
    "\n",
    "The model powering this API was built on data from a Kaggle challenge: [Planet: Understanding the Amazon from Space](https://www.kaggle.com/c/planet-understanding-the-amazon-from-space).\n",
    "\n",
    "#### Dataset\n",
    "\n",
    " - Number of train images: 40479\n",
    " - Number of test images: 61191\n",
    " \n",
    "Images are RGB/IR images collected from Planet Labs satellites.\n",
    "\n",
    "Each images was assigned one or more class labels describing weather and land-use patterns.\n",
    "\n",
    " - Weather: \n",
    "     ['clear', 'cloudy', 'haze', 'partly_cloudy']\n",
    " - Land Use: \n",
    "     ['agriculture', 'artisinal_mine', 'bare_ground', 'blooming', 'blow_down', 'conventional_mine',\n",
    "      'cultivation', 'habitation', 'primary', 'road', 'selective_logging', 'slash_burn', 'water']\n",
    "\n",
    "![Dataset](https://storage.googleapis.com/kaggle-competitions/kaggle/6322/media/chips.jpg)\n",
    "\n",
    "\n",
    "#### Model details\n",
    "\n",
    "- Modified DenseNet121 (pretrained on ImageNet)\n",
    "- Image augmentation on RGB Images\n",
    "- Fine-tuning with different image sizes\n",
    "- Accuracy: 92.9 F2 score with 30 epochs, adaptive learning rate (varied from 1e-1 to 1e-6)\n"
   ]
  },
  {
   "cell_type": "markdown",
   "metadata": {},
   "source": [
    "## Imports and constants"
   ]
  },
  {
   "cell_type": "code",
   "execution_count": null,
   "metadata": {},
   "outputs": [],
   "source": [
    "%matplotlib inline\n",
    "import cv2\n",
    "import numpy as np\n",
    "import requests\n",
    "import matplotlib.pyplot as plt\n",
    "\n",
    "%autosave 0\n",
    "\n",
    "host = '40.91.93.161'      # IP of the ACI\n",
    "port = '80'                # port\n",
    "prefix = 'v1/pytorch_api'  # path to your API\n",
    "route = 'classify'         # function call\n",
    "\n",
    "URL = f'http://{host}:{port}/{prefix}/{route}'  \n",
    "headers = {'content-type': 'image/jpeg'}\n",
    "BLOB_STORE = 'https://planetsatelliteblobs.blob.core.windows.net/planetsatelliteblobscontainer/test'\n",
    "files = ['file_0.jpg', 'file_1.jpg', 'file_2.jpg', 'file_3.jpg', 'file_4.jpg', 'file_5.jpg', 'file_6.jpg', 'file_7.jpg', 'file_8.jpg', 'file_9.jpg', 'file_10.jpg']"
   ]
  },
  {
   "cell_type": "markdown",
   "metadata": {},
   "source": [
    "## Functions"
   ]
  },
  {
   "cell_type": "code",
   "execution_count": null,
   "metadata": {},
   "outputs": [],
   "source": [
    "def classify_api(img_url):\n",
    "    # get the image from blob storage\n",
    "    r = requests.get(img_url)\n",
    "    \n",
    "    # read the image using open-cv\n",
    "    img = np.asarray(bytearray(r.content), dtype=\"uint8\")\n",
    "    img = cv2.imdecode(img, cv2.IMREAD_COLOR)\n",
    "    img = cv2.cvtColor(img, cv2.COLOR_BGR2RGB)\n",
    "    \n",
    "    # call the model api\n",
    "    labels = requests.post(URL, data=r.content, headers=headers)\n",
    "    \n",
    "    return img, labels.json()\n",
    "    \n",
    "    \n",
    "def show(img, label):\n",
    "    \n",
    "    plt.title(label)\n",
    "    plt.axis('off')\n",
    "    plt.imshow(img)"
   ]
  },
  {
   "cell_type": "markdown",
   "metadata": {},
   "source": [
    "## Call API and show results"
   ]
  },
  {
   "cell_type": "code",
   "execution_count": null,
   "metadata": {},
   "outputs": [],
   "source": [
    "show(*classify_api(f'{BLOB_STORE}/{files[0]}'))"
   ]
  },
  {
   "cell_type": "code",
   "execution_count": null,
   "metadata": {},
   "outputs": [],
   "source": [
    "show(*classify_api(f'{BLOB_STORE}/{files[1]}'))"
   ]
  },
  {
   "cell_type": "code",
   "execution_count": null,
   "metadata": {},
   "outputs": [],
   "source": [
    "show(*classify_api(f'{BLOB_STORE}/{files[2]}'))"
   ]
  },
  {
   "cell_type": "code",
   "execution_count": null,
   "metadata": {},
   "outputs": [],
   "source": [
    "show(*classify_api(f'{BLOB_STORE}/{files[3]}'))"
   ]
  },
  {
   "cell_type": "code",
   "execution_count": null,
   "metadata": {},
   "outputs": [],
   "source": [
    "show(*classify_api(f'{BLOB_STORE}/{files[4]}'))"
   ]
  },
  {
   "cell_type": "code",
   "execution_count": null,
   "metadata": {},
   "outputs": [],
   "source": [
    "show(*classify_api(f'{BLOB_STORE}/{files[5]}'))"
   ]
  },
  {
   "cell_type": "code",
   "execution_count": null,
   "metadata": {},
   "outputs": [],
   "source": [
    "show(*classify_api(f'{BLOB_STORE}/{files[6]}'))"
   ]
  },
  {
   "cell_type": "code",
   "execution_count": null,
   "metadata": {},
   "outputs": [],
   "source": [
    "show(*classify_api(f'{BLOB_STORE}/{files[7]}'))"
   ]
  },
  {
   "cell_type": "code",
   "execution_count": null,
   "metadata": {},
   "outputs": [],
   "source": [
    "show(*classify_api(f'{BLOB_STORE}/{files[8]}'))"
   ]
  },
  {
   "cell_type": "code",
   "execution_count": null,
   "metadata": {},
   "outputs": [],
   "source": [
    "show(*classify_api(f'{BLOB_STORE}/{files[9]}'))"
   ]
  },
  {
   "cell_type": "code",
   "execution_count": null,
   "metadata": {},
   "outputs": [],
   "source": [
    "show(*classify_api(f'{BLOB_STORE}/{files[10]}'))"
   ]
  }
 ],
 "metadata": {
  "kernelspec": {
   "display_name": "Torch",
   "language": "python",
   "name": "torch"
  },
  "language_info": {
   "codemirror_mode": {
    "name": "ipython",
    "version": 3
   },
   "file_extension": ".py",
   "mimetype": "text/x-python",
   "name": "python",
   "nbconvert_exporter": "python",
   "pygments_lexer": "ipython3",
   "version": "3.6.8"
  }
 },
 "nbformat": 4,
 "nbformat_minor": 2
}
