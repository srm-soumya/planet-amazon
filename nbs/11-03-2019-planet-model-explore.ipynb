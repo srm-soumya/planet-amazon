{
 "cells": [
  {
   "cell_type": "code",
   "execution_count": 1,
   "metadata": {},
   "outputs": [],
   "source": [
    "import torch\n",
    "import torch.nn as nn\n",
    "import torchvision\n",
    "from torchvision import models"
   ]
  },
  {
   "cell_type": "markdown",
   "metadata": {},
   "source": [
    "### Resnet"
   ]
  },
  {
   "cell_type": "code",
   "execution_count": 2,
   "metadata": {},
   "outputs": [],
   "source": [
    "resnet18 = models.resnet18()"
   ]
  },
  {
   "cell_type": "code",
   "execution_count": 1,
   "metadata": {},
   "outputs": [
    {
     "ename": "NameError",
     "evalue": "name 'nn' is not defined",
     "output_type": "error",
     "traceback": [
      "\u001b[0;31m---------------------------------------------------------------------------\u001b[0m",
      "\u001b[0;31mNameError\u001b[0m                                 Traceback (most recent call last)",
      "\u001b[0;32m<ipython-input-1-a02df56cd925>\u001b[0m in \u001b[0;36m<module>\u001b[0;34m\u001b[0m\n\u001b[0;32m----> 1\u001b[0;31m \u001b[0;32mclass\u001b[0m \u001b[0mPlanetResNet\u001b[0m\u001b[0;34m(\u001b[0m\u001b[0mnn\u001b[0m\u001b[0;34m.\u001b[0m\u001b[0mModule\u001b[0m\u001b[0;34m)\u001b[0m\u001b[0;34m:\u001b[0m\u001b[0;34m\u001b[0m\u001b[0;34m\u001b[0m\u001b[0m\n\u001b[0m\u001b[1;32m      2\u001b[0m     \u001b[0;32mdef\u001b[0m \u001b[0m__init__\u001b[0m\u001b[0;34m(\u001b[0m\u001b[0mself\u001b[0m\u001b[0;34m,\u001b[0m \u001b[0mM\u001b[0m\u001b[0;34m,\u001b[0m \u001b[0mc\u001b[0m\u001b[0;34m)\u001b[0m\u001b[0;34m:\u001b[0m\u001b[0;34m\u001b[0m\u001b[0;34m\u001b[0m\u001b[0m\n\u001b[1;32m      3\u001b[0m         \u001b[0msuper\u001b[0m\u001b[0;34m(\u001b[0m\u001b[0;34m)\u001b[0m\u001b[0;34m.\u001b[0m\u001b[0m__init__\u001b[0m\u001b[0;34m(\u001b[0m\u001b[0;34m)\u001b[0m\u001b[0;34m\u001b[0m\u001b[0;34m\u001b[0m\u001b[0m\n\u001b[1;32m      4\u001b[0m         \u001b[0mself\u001b[0m\u001b[0;34m.\u001b[0m\u001b[0mfeatures\u001b[0m \u001b[0;34m=\u001b[0m \u001b[0mnn\u001b[0m\u001b[0;34m.\u001b[0m\u001b[0mSequential\u001b[0m\u001b[0;34m(\u001b[0m\u001b[0;34m*\u001b[0m\u001b[0;34m(\u001b[0m\u001b[0mlist\u001b[0m\u001b[0;34m(\u001b[0m\u001b[0mM\u001b[0m\u001b[0;34m.\u001b[0m\u001b[0mchildren\u001b[0m\u001b[0;34m(\u001b[0m\u001b[0;34m)\u001b[0m\u001b[0;34m)\u001b[0m\u001b[0;34m[\u001b[0m\u001b[0;34m:\u001b[0m\u001b[0;34m-\u001b[0m\u001b[0;36m1\u001b[0m\u001b[0;34m]\u001b[0m\u001b[0;34m)\u001b[0m\u001b[0;34m)\u001b[0m\u001b[0;34m\u001b[0m\u001b[0;34m\u001b[0m\u001b[0m\n\u001b[1;32m      5\u001b[0m         \u001b[0mself\u001b[0m\u001b[0;34m.\u001b[0m\u001b[0mclassifier\u001b[0m \u001b[0;34m=\u001b[0m \u001b[0mnn\u001b[0m\u001b[0;34m.\u001b[0m\u001b[0mLinear\u001b[0m\u001b[0;34m(\u001b[0m\u001b[0min_features\u001b[0m\u001b[0;34m=\u001b[0m\u001b[0;36m512\u001b[0m\u001b[0;34m,\u001b[0m \u001b[0mout_features\u001b[0m\u001b[0;34m=\u001b[0m\u001b[0mc\u001b[0m\u001b[0;34m)\u001b[0m\u001b[0;34m\u001b[0m\u001b[0;34m\u001b[0m\u001b[0m\n",
      "\u001b[0;31mNameError\u001b[0m: name 'nn' is not defined"
     ]
    }
   ],
   "source": [
    "class PlanetResNet(nn.Module):\n",
    "    def __init__(self, M, c):\n",
    "        super().__init__()\n",
    "        self.features = nn.Sequential(*(list(M.children())[:-1]))\n",
    "        self.classifier = nn.Linear(in_features=512, out_features=c)\n",
    "        \n",
    "    def forward(self, x):\n",
    "        x = self.features(x)\n",
    "        x = self.classifier(x)\n",
    "        return torch.sigmoid(x)\n",
    "    \n",
    "    \n",
    "class ModelWrapper:\n",
    "    def __init__(self, M):\n",
    "        self.model = M\n",
    "        \n",
    "    @staticmethod\n",
    "    def freeze(layers):\n",
    "        for param in layers.parameters(): param.requires_grad_(False)\n",
    "            \n",
    "    @staticmethod\n",
    "    def unfreeze(layers):\n",
    "        for param in layers.parameters(): param.requires_grad_(True)\n",
    "        \n",
    "    def freeze_features(self, arg=True):\n",
    "        if arg: self.freeze(self.model.features)\n",
    "        else:   self.unfreeze(self.model.features)\n",
    "            \n",
    "    def partial_freeze_features(self, pct=0.2):\n",
    "        size = len(list(self.model.features.children()))\n",
    "        freeze_point = int(size * (1 - pct))\n",
    "        \n",
    "        for idx, child in enumerate(model.features.children()):\n",
    "            if idx < freeze_point: self.freeze(child)\n",
    "            else: self.unfreeze(child)\n",
    "        \n",
    "    def freeze_classifier(self, arg=True):\n",
    "        if arg: self.freeze(self.model.classifier)\n",
    "        else:   self.unfreeze(self.model.classifier)\n",
    "    \n",
    "    def summary(self):\n",
    "        print('\\n\\n')\n",
    "        for idx, (name, child) in enumerate(self.model.features.named_children()):\n",
    "            print(f'{idx}: {name}-{child}')\n",
    "            for param in child.parameters():\n",
    "                print(f'{param.requires_grad}')\n",
    "\n",
    "        for idx, (name, child) in enumerate(self.model.classifier.named_children()):\n",
    "            print(f'{idx}: {name}-{child}')\n",
    "            for param in child.parameters():\n",
    "                print(f'{param.requires_grad}')\n",
    "        print('\\n\\n')"
   ]
  },
  {
   "cell_type": "code",
   "execution_count": 73,
   "metadata": {},
   "outputs": [],
   "source": [
    "model = PlanetResNet(resnet18, 17)\n",
    "wrapper = ModelWrapper(model)"
   ]
  },
  {
   "cell_type": "code",
   "execution_count": 82,
   "metadata": {},
   "outputs": [],
   "source": [
    "wrapper.freeze_features(False)"
   ]
  },
  {
   "cell_type": "code",
   "execution_count": 83,
   "metadata": {},
   "outputs": [
    {
     "name": "stdout",
     "output_type": "stream",
     "text": [
      "--- None torch.Size([64, 3, 7, 7]) True\n",
      "--- None torch.Size([64]) True\n",
      "--- None torch.Size([64]) True\n",
      "--- None torch.Size([64, 64, 3, 3]) True\n",
      "--- None torch.Size([64]) True\n",
      "--- None torch.Size([64]) True\n",
      "--- None torch.Size([64, 64, 3, 3]) True\n",
      "--- None torch.Size([64]) True\n",
      "--- None torch.Size([64]) True\n",
      "--- None torch.Size([64, 64, 3, 3]) True\n",
      "--- None torch.Size([64]) True\n",
      "--- None torch.Size([64]) True\n",
      "--- None torch.Size([64, 64, 3, 3]) True\n",
      "--- None torch.Size([64]) True\n",
      "--- None torch.Size([64]) True\n",
      "--- None torch.Size([128, 64, 3, 3]) True\n",
      "--- None torch.Size([128]) True\n",
      "--- None torch.Size([128]) True\n",
      "--- None torch.Size([128, 128, 3, 3]) True\n",
      "--- None torch.Size([128]) True\n",
      "--- None torch.Size([128]) True\n",
      "--- None torch.Size([128, 64, 1, 1]) True\n",
      "--- None torch.Size([128]) True\n",
      "--- None torch.Size([128]) True\n",
      "--- None torch.Size([128, 128, 3, 3]) True\n",
      "--- None torch.Size([128]) True\n",
      "--- None torch.Size([128]) True\n",
      "--- None torch.Size([128, 128, 3, 3]) True\n",
      "--- None torch.Size([128]) True\n",
      "--- None torch.Size([128]) True\n",
      "--- None torch.Size([256, 128, 3, 3]) True\n",
      "--- None torch.Size([256]) True\n",
      "--- None torch.Size([256]) True\n",
      "--- None torch.Size([256, 256, 3, 3]) True\n",
      "--- None torch.Size([256]) True\n",
      "--- None torch.Size([256]) True\n",
      "--- None torch.Size([256, 128, 1, 1]) True\n",
      "--- None torch.Size([256]) True\n",
      "--- None torch.Size([256]) True\n",
      "--- None torch.Size([256, 256, 3, 3]) True\n",
      "--- None torch.Size([256]) True\n",
      "--- None torch.Size([256]) True\n",
      "--- None torch.Size([256, 256, 3, 3]) True\n",
      "--- None torch.Size([256]) True\n",
      "--- None torch.Size([256]) True\n",
      "--- None torch.Size([512, 256, 3, 3]) True\n",
      "--- None torch.Size([512]) True\n",
      "--- None torch.Size([512]) True\n",
      "--- None torch.Size([512, 512, 3, 3]) True\n",
      "--- None torch.Size([512]) True\n",
      "--- None torch.Size([512]) True\n",
      "--- None torch.Size([512, 256, 1, 1]) True\n",
      "--- None torch.Size([512]) True\n",
      "--- None torch.Size([512]) True\n",
      "--- None torch.Size([512, 512, 3, 3]) True\n",
      "--- None torch.Size([512]) True\n",
      "--- None torch.Size([512]) True\n",
      "--- None torch.Size([512, 512, 3, 3]) True\n",
      "--- None torch.Size([512]) True\n",
      "--- None torch.Size([512]) True\n",
      "--- None torch.Size([17, 512]) True\n",
      "--- None torch.Size([17]) True\n"
     ]
    }
   ],
   "source": [
    "for param in wrapper.model.parameters():\n",
    "    print('---', param.name, param.shape, param.requires_grad)"
   ]
  },
  {
   "cell_type": "markdown",
   "metadata": {},
   "source": [
    "### Explore different image size"
   ]
  },
  {
   "cell_type": "code",
   "execution_count": 34,
   "metadata": {},
   "outputs": [],
   "source": [
    "import torch.nn.functional as F"
   ]
  },
  {
   "cell_type": "code",
   "execution_count": 81,
   "metadata": {},
   "outputs": [],
   "source": [
    "x = torch.randn(16, 3, 224, 224)"
   ]
  },
  {
   "cell_type": "code",
   "execution_count": 82,
   "metadata": {},
   "outputs": [],
   "source": [
    "class Flatten(nn.Module):\n",
    "    def forward(self, x):\n",
    "        return x.view(x.size(0), -1)\n",
    "\n",
    "class PlanetResNet(nn.Module):\n",
    "    def __init__(self, M, c):\n",
    "        super().__init__()\n",
    "        self.features = nn.Sequential(*(list(M.children())[:-2]))\n",
    "        self.classifier = nn.Sequential(\n",
    "            nn.AdaptiveAvgPool2d(1),\n",
    "            Flatten(),\n",
    "            nn.Linear(in_features=512, out_features=c)\n",
    "        )\n",
    "\n",
    "    def forward(self, x):\n",
    "        x = self.features(x)\n",
    "        x = self.classifier(x)\n",
    "        return torch.sigmoid(x)\n",
    "\n",
    "model = PlanetResNet(resnet18, 17)"
   ]
  },
  {
   "cell_type": "code",
   "execution_count": 83,
   "metadata": {},
   "outputs": [],
   "source": [
    "o = model.features(x)"
   ]
  },
  {
   "cell_type": "code",
   "execution_count": 84,
   "metadata": {},
   "outputs": [
    {
     "data": {
      "text/plain": [
       "torch.Size([16, 512, 7, 7])"
      ]
     },
     "execution_count": 84,
     "metadata": {},
     "output_type": "execute_result"
    }
   ],
   "source": [
    "o.shape"
   ]
  },
  {
   "cell_type": "code",
   "execution_count": 87,
   "metadata": {},
   "outputs": [],
   "source": [
    "y = model.classifier(o)"
   ]
  },
  {
   "cell_type": "code",
   "execution_count": 88,
   "metadata": {},
   "outputs": [
    {
     "data": {
      "text/plain": [
       "torch.Size([16, 17])"
      ]
     },
     "execution_count": 88,
     "metadata": {},
     "output_type": "execute_result"
    }
   ],
   "source": [
    "y.shape"
   ]
  },
  {
   "cell_type": "code",
   "execution_count": 72,
   "metadata": {},
   "outputs": [],
   "source": [
    "o = o.view(o.size(0), -1)"
   ]
  },
  {
   "cell_type": "code",
   "execution_count": 73,
   "metadata": {},
   "outputs": [
    {
     "data": {
      "text/plain": [
       "torch.Size([16, 512])"
      ]
     },
     "execution_count": 73,
     "metadata": {},
     "output_type": "execute_result"
    }
   ],
   "source": [
    "o.shape"
   ]
  },
  {
   "cell_type": "code",
   "execution_count": 74,
   "metadata": {},
   "outputs": [
    {
     "ename": "AttributeError",
     "evalue": "'tuple' object has no attribute 't'",
     "output_type": "error",
     "traceback": [
      "\u001b[0;31m---------------------------------------------------------------------------\u001b[0m",
      "\u001b[0;31mAttributeError\u001b[0m                            Traceback (most recent call last)",
      "\u001b[0;32m<ipython-input-74-54807c0ec9f9>\u001b[0m in \u001b[0;36m<module>\u001b[0;34m\u001b[0m\n\u001b[0;32m----> 1\u001b[0;31m \u001b[0mo\u001b[0m \u001b[0;34m=\u001b[0m \u001b[0mF\u001b[0m\u001b[0;34m.\u001b[0m\u001b[0mlinear\u001b[0m\u001b[0;34m(\u001b[0m\u001b[0mx\u001b[0m\u001b[0;34m,\u001b[0m \u001b[0;34m(\u001b[0m\u001b[0;36m17\u001b[0m\u001b[0;34m,\u001b[0m \u001b[0;36m512\u001b[0m\u001b[0;34m)\u001b[0m\u001b[0;34m)\u001b[0m\u001b[0;34m\u001b[0m\u001b[0;34m\u001b[0m\u001b[0m\n\u001b[0m",
      "\u001b[0;32m~/anaconda3/envs/torch/lib/python3.6/site-packages/torch/nn/functional.py\u001b[0m in \u001b[0;36mlinear\u001b[0;34m(input, weight, bias)\u001b[0m\n\u001b[1;32m   1352\u001b[0m         \u001b[0mret\u001b[0m \u001b[0;34m=\u001b[0m \u001b[0mtorch\u001b[0m\u001b[0;34m.\u001b[0m\u001b[0maddmm\u001b[0m\u001b[0;34m(\u001b[0m\u001b[0mtorch\u001b[0m\u001b[0;34m.\u001b[0m\u001b[0mjit\u001b[0m\u001b[0;34m.\u001b[0m\u001b[0m_unwrap_optional\u001b[0m\u001b[0;34m(\u001b[0m\u001b[0mbias\u001b[0m\u001b[0;34m)\u001b[0m\u001b[0;34m,\u001b[0m \u001b[0minput\u001b[0m\u001b[0;34m,\u001b[0m \u001b[0mweight\u001b[0m\u001b[0;34m.\u001b[0m\u001b[0mt\u001b[0m\u001b[0;34m(\u001b[0m\u001b[0;34m)\u001b[0m\u001b[0;34m)\u001b[0m\u001b[0;34m\u001b[0m\u001b[0;34m\u001b[0m\u001b[0m\n\u001b[1;32m   1353\u001b[0m     \u001b[0;32melse\u001b[0m\u001b[0;34m:\u001b[0m\u001b[0;34m\u001b[0m\u001b[0;34m\u001b[0m\u001b[0m\n\u001b[0;32m-> 1354\u001b[0;31m         \u001b[0moutput\u001b[0m \u001b[0;34m=\u001b[0m \u001b[0minput\u001b[0m\u001b[0;34m.\u001b[0m\u001b[0mmatmul\u001b[0m\u001b[0;34m(\u001b[0m\u001b[0mweight\u001b[0m\u001b[0;34m.\u001b[0m\u001b[0mt\u001b[0m\u001b[0;34m(\u001b[0m\u001b[0;34m)\u001b[0m\u001b[0;34m)\u001b[0m\u001b[0;34m\u001b[0m\u001b[0;34m\u001b[0m\u001b[0m\n\u001b[0m\u001b[1;32m   1355\u001b[0m         \u001b[0;32mif\u001b[0m \u001b[0mbias\u001b[0m \u001b[0;32mis\u001b[0m \u001b[0;32mnot\u001b[0m \u001b[0;32mNone\u001b[0m\u001b[0;34m:\u001b[0m\u001b[0;34m\u001b[0m\u001b[0;34m\u001b[0m\u001b[0m\n\u001b[1;32m   1356\u001b[0m             \u001b[0moutput\u001b[0m \u001b[0;34m+=\u001b[0m \u001b[0mtorch\u001b[0m\u001b[0;34m.\u001b[0m\u001b[0mjit\u001b[0m\u001b[0;34m.\u001b[0m\u001b[0m_unwrap_optional\u001b[0m\u001b[0;34m(\u001b[0m\u001b[0mbias\u001b[0m\u001b[0;34m)\u001b[0m\u001b[0;34m\u001b[0m\u001b[0;34m\u001b[0m\u001b[0m\n",
      "\u001b[0;31mAttributeError\u001b[0m: 'tuple' object has no attribute 't'"
     ]
    }
   ],
   "source": [
    "o = F.linear(x, (17, 512))"
   ]
  },
  {
   "cell_type": "code",
   "execution_count": 33,
   "metadata": {},
   "outputs": [
    {
     "data": {
      "text/plain": [
       "torch.Size([16, 3, 1, 1])"
      ]
     },
     "execution_count": 33,
     "metadata": {},
     "output_type": "execute_result"
    }
   ],
   "source": [
    "o.shape"
   ]
  },
  {
   "cell_type": "code",
   "execution_count": null,
   "metadata": {},
   "outputs": [],
   "source": []
  }
 ],
 "metadata": {
  "kernelspec": {
   "display_name": "Torch",
   "language": "python",
   "name": "torch"
  },
  "language_info": {
   "codemirror_mode": {
    "name": "ipython",
    "version": 3
   },
   "file_extension": ".py",
   "mimetype": "text/x-python",
   "name": "python",
   "nbconvert_exporter": "python",
   "pygments_lexer": "ipython3",
   "version": "3.6.8"
  }
 },
 "nbformat": 4,
 "nbformat_minor": 2
}
