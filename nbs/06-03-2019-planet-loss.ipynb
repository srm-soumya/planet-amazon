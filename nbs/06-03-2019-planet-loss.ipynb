{
 "cells": [
  {
   "cell_type": "code",
   "execution_count": 1,
   "metadata": {},
   "outputs": [
    {
     "name": "stdout",
     "output_type": "stream",
     "text": [
      "None torch.Size([16, 3, 5, 5]) 1200 True\n",
      "None torch.Size([16]) 16 True\n",
      "None torch.Size([32, 16, 3, 3]) 4608 True\n",
      "None torch.Size([32]) 32 True\n",
      "None torch.Size([32]) 32 True\n",
      "None torch.Size([32]) 32 True\n",
      "None torch.Size([16, 32]) 512 True\n",
      "None torch.Size([16]) 16 True\n"
     ]
    }
   ],
   "source": [
    "from dataset import get_data\n",
    "from model import Net\n",
    "\n",
    "train_dl, val_dl = get_data()\n",
    "c = train_dl.dataset.y_train.shape[1]\n",
    "\n",
    "model = Net([16, 32], c)\n",
    "\n",
    "for param in model.parameters():\n",
    "    print(param.name, param.shape, param.numel(), param.requires_grad)"
   ]
  },
  {
   "cell_type": "code",
   "execution_count": 2,
   "metadata": {},
   "outputs": [
    {
     "data": {
      "text/plain": [
       "(torch.Size([10, 16]), torch.Size([10, 16]))"
      ]
     },
     "execution_count": 2,
     "metadata": {},
     "output_type": "execute_result"
    }
   ],
   "source": [
    "data, target = next(iter(train_dl))\n",
    "out = model(data)\n",
    "out.shape, target.shape"
   ]
  },
  {
   "cell_type": "code",
   "execution_count": 3,
   "metadata": {},
   "outputs": [],
   "source": [
    "import torch\n",
    "criterion = torch.nn.BCELoss()\n",
    "\n",
    "loss = criterion(out, target)"
   ]
  },
  {
   "cell_type": "code",
   "execution_count": 4,
   "metadata": {},
   "outputs": [
    {
     "data": {
      "text/plain": [
       "tensor(0.7011, grad_fn=<BinaryCrossEntropyBackward>)"
      ]
     },
     "execution_count": 4,
     "metadata": {},
     "output_type": "execute_result"
    }
   ],
   "source": [
    "loss"
   ]
  },
  {
   "cell_type": "code",
   "execution_count": null,
   "metadata": {},
   "outputs": [],
   "source": []
  }
 ],
 "metadata": {
  "kernelspec": {
   "display_name": "Torch",
   "language": "python",
   "name": "torch"
  },
  "language_info": {
   "codemirror_mode": {
    "name": "ipython",
    "version": 3
   },
   "file_extension": ".py",
   "mimetype": "text/x-python",
   "name": "python",
   "nbconvert_exporter": "python",
   "pygments_lexer": "ipython3",
   "version": "3.6.8"
  }
 },
 "nbformat": 4,
 "nbformat_minor": 2
}
